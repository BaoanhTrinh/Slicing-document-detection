{
 "cells": [
  {
   "cell_type": "code",
   "execution_count": 1,
   "id": "47cbe56a",
   "metadata": {},
   "outputs": [],
   "source": [
    "import sys\n",
    "import tensorflow as tf\n",
    "import matplotlib.pyplot as plt\n",
    "from tool import *\n",
    "import numpy as np\n",
    "import matplotlib.pylab as plt\n",
    "import cv2\n",
    "import numpy.ma as ma\n",
    "import glob\n",
    "\n",
    "def get_features(PATH):\n",
    "    # read lena RGB image and convert to grayscale\n",
    "    rgb_im = cv2.imread(PATH)\n",
    "    gray_im = cv2.cvtColor(rgb_im, cv2.COLOR_BGR2GRAY)\n",
    "    dct_img = dct2 (gray_im)\n",
    "\n",
    "    #Get positive coef.\n",
    "    dct_positive_coef, dct_negative_coef = np.array(dct_img), np.array(dct_img)\n",
    "\n",
    "    np.putmask(dct_positive_coef, dct_positive_coef < 0, 0)\n",
    "    np.putmask(dct_negative_coef, dct_negative_coef > 0, 0)\n",
    "\n",
    "\n",
    "    idct_positive_img = idct2(dct_positive_coef)\n",
    "    idct_negative_img = idct2(dct_negative_coef)\n",
    "\n",
    "    # idct_positive_img = np.uint8(idct_positive_img) \n",
    "    # idct_negative_img = np.uint8(idct_negative_img) \n",
    "    # cv2.imwrite ('positive.jpg', idct_positive_img)\n",
    "    # cv2.imwrite ('negative.jpg', idct_negative_img)\n",
    "\n",
    "    #Apply laplacian filter\n",
    "    positive_laplacian_img = laplace (idct_positive_img)\n",
    "    negative_laplacian_img = laplace (idct_negative_img)\n",
    "\n",
    "    # positive_laplacian_img = np.uint8(positive_laplacian_img) \n",
    "    # negative_laplacian_img = np.uint8(negative_laplacian_img) \n",
    "\n",
    "    #Fuse image\n",
    "    fuse_img = (np.array (positive_laplacian_img) + np.array (negative_laplacian_img)) / 2.0\n",
    "\n",
    "    fuse_img = np.uint8(fuse_img) \n",
    "\n",
    "    #Candy image\n",
    "#     candy_fuse_img = candy (fuse_img)\n",
    "#     sobel_fuse_img = sobel (fuse_img)\n",
    "\n",
    "#     candy_original_img = candy (gray_im)\n",
    "#     sobel_original_img = sobel (gray_im)\n",
    "\n",
    "#     psnr_candy, mse_candy, ssim_candy = quality_features (candy_original_img, candy_fuse_img)\n",
    "#     psnr_sobel, mse_sobel, ssim_sobel = quality_features (sobel_original_img, sobel_fuse_img)\n",
    "\n",
    "#     img_quality_features = np.array ([psnr_candy, mse_candy, ssim_candy, psnr_sobel, mse_sobel, ssim_sobel])\n",
    "#     img_quality_features = np.reshape (img_quality_features, (img_quality_features.shape [0],1))\n",
    "    #print ('quality features',img_quality_features.shape)\n",
    "\n",
    "    # calculate residual image\n",
    "    residual_img = np.abs (fuse_img - np.array (gray_im))\n",
    "\n",
    "    hist_residual = hist_features(residual_img)\n",
    "    hist_fuse = hist_features(fuse_img)\n",
    "    hist_original = hist_features(gray_im)\n",
    "\n",
    "    cv2.normalize(hist_residual,hist_residual,0,1,cv2.NORM_MINMAX)\n",
    "    cv2.normalize(hist_fuse,hist_fuse,0,1,cv2.NORM_MINMAX)\n",
    "    cv2.normalize(hist_original,hist_original,0,1,cv2.NORM_MINMAX)\n",
    "    diff_hist = np.abs (np.array (hist_original) - np.array (hist_fuse))\n",
    "\n",
    "    img_features = np.concatenate ((hist_residual, hist_fuse, diff_hist), axis = 0)\n",
    "\n",
    "#     img_features = np.reshape (img_features, (img_features.shape [0],))\n",
    "    \n",
    "    return img_features\n",
    "    # print (img_features.shape)\n",
    "    # plt.plot(hist_residual)\n",
    "    # plt.show()"
   ]
  },
  {
   "cell_type": "code",
   "execution_count": 2,
   "id": "6775658a",
   "metadata": {},
   "outputs": [],
   "source": [
    "image_list =[]\n",
    "label_list = []\n",
    "for label in ['normal','slicing']:\n",
    "    for PATH in glob.glob(r'train22\\{}\\*.jpg'.format(label)): \n",
    "        features = get_features(PATH)\n",
    "        image_list.append(features)\n",
    "        if label == 'normal':\n",
    "            label_list.append(1)\n",
    "        else:\n",
    "            label_list.append(0)\n"
   ]
  },
  {
   "cell_type": "code",
   "execution_count": 3,
   "id": "collaborative-retrieval",
   "metadata": {},
   "outputs": [
    {
     "name": "stdout",
     "output_type": "stream",
     "text": [
      "(557, 75)\n",
      "(557,)\n"
     ]
    }
   ],
   "source": [
    "import random\n",
    "\n",
    "temp = list(zip(image_list, label_list))\n",
    "random.shuffle(temp)\n",
    "image_list, label_list = zip(*temp)\n",
    "N = len(label_list)\n",
    "Y = np.asarray(label_list)\n",
    "X = np.zeros((N,75))\n",
    "for i in range(0,N):\n",
    "    X[i] = image_list[i].reshape(75,)\n",
    "print(X.shape)\n",
    "print(Y.shape)"
   ]
  },
  {
   "cell_type": "code",
   "execution_count": 4,
   "id": "88648f4b",
   "metadata": {},
   "outputs": [
    {
     "name": "stdout",
     "output_type": "stream",
     "text": [
      "Model: \"sequential\"\n",
      "_________________________________________________________________\n",
      "Layer (type)                 Output Shape              Param #   \n",
      "=================================================================\n",
      "conv1d (Conv1D)              (None, 75, 32)            128       \n",
      "_________________________________________________________________\n",
      "conv1d_1 (Conv1D)            (None, 75, 128)           12416     \n",
      "_________________________________________________________________\n",
      "max_pooling1d (MaxPooling1D) (None, 38, 128)           0         \n",
      "_________________________________________________________________\n",
      "conv1d_2 (Conv1D)            (None, 38, 32)            12320     \n",
      "_________________________________________________________________\n",
      "max_pooling1d_1 (MaxPooling1 (None, 19, 32)            0         \n",
      "_________________________________________________________________\n",
      "flatten (Flatten)            (None, 608)               0         \n",
      "_________________________________________________________________\n",
      "dropout (Dropout)            (None, 608)               0         \n",
      "_________________________________________________________________\n",
      "dense (Dense)                (None, 608)               370272    \n",
      "_________________________________________________________________\n",
      "dense_1 (Dense)              (None, 128)               77952     \n",
      "_________________________________________________________________\n",
      "dense_2 (Dense)              (None, 16)                2064      \n",
      "_________________________________________________________________\n",
      "dense_3 (Dense)              (None, 1)                 17        \n",
      "=================================================================\n",
      "Total params: 475,169\n",
      "Trainable params: 475,169\n",
      "Non-trainable params: 0\n",
      "_________________________________________________________________\n"
     ]
    }
   ],
   "source": [
    "# cnn \n",
    "EPOCHS = 100\n",
    "BATCH_SIZE = 8\n",
    "lr = 1e-4\n",
    "n_features = 75\n",
    "import keras\n",
    "from keras.models import Sequential\n",
    "from keras.layers import Dense, Conv1D, Flatten,MaxPooling1D,Dropout\n",
    "import tensorflow as tf\n",
    "from tensorflow.keras import optimizers\n",
    "#create model\n",
    "model = Sequential()\n",
    "model.add(Conv1D(filters=32, kernel_size=3,padding='same', activation='relu', input_shape=(n_features,1)))\n",
    "model.add(Conv1D(filters=128, kernel_size=3,padding = 'same', activation='relu'))\n",
    "model.add(MaxPooling1D(strides =2,padding ='same'))\n",
    "model.add(Conv1D(filters=32, kernel_size=3, padding='same',activation='relu'))\n",
    "model.add(MaxPooling1D(strides =2,padding ='same'))\n",
    "model.add(Flatten())\n",
    "model.add(Dropout(0.2))\n",
    "model.add(Dense(608,activation=\"relu\"))\n",
    "model.add(Dense(128,activation=\"relu\"))\n",
    "model.add(Dense(16,activation=\"relu\"))\n",
    "model.add(Dense(1, activation='sigmoid'))\n",
    "model.summary()\n",
    "model.compile(optimizer=optimizers.Adam(learning_rate=lr),\n",
    "              loss=keras.losses.BinaryCrossentropy(),\n",
    "              metrics=[keras.metrics.BinaryAccuracy(),\n",
    "                       keras.metrics.AUC()])"
   ]
  },
  {
   "cell_type": "code",
   "execution_count": 5,
   "id": "cf3a4b2b",
   "metadata": {},
   "outputs": [
    {
     "name": "stderr",
     "output_type": "stream",
     "text": [
      "c:\\users\\admin\\appdata\\local\\programs\\python\\python38\\lib\\site-packages\\tensorflow\\python\\data\\ops\\dataset_ops.py:3349: UserWarning: Even though the tf.config.experimental_run_functions_eagerly option is set, this option does not apply to tf.data functions. tf.data functions are still traced and executed as graphs.\n",
      "  warnings.warn(\n"
     ]
    },
    {
     "name": "stdout",
     "output_type": "stream",
     "text": [
      "Epoch 1/100\n",
      " 1/56 [..............................] - ETA: 0s - loss: 0.6935 - binary_accuracy: 0.6250 - auc: 0.3667WARNING:tensorflow:From c:\\users\\admin\\appdata\\local\\programs\\python\\python38\\lib\\site-packages\\tensorflow\\python\\ops\\summary_ops_v2.py:1277: stop (from tensorflow.python.eager.profiler) is deprecated and will be removed after 2020-07-01.\n",
      "Instructions for updating:\n",
      "use `tf.profiler.experimental.stop` instead.\n",
      " 2/56 [>.............................] - ETA: 11s - loss: 0.6912 - binary_accuracy: 0.6875 - auc: 0.5079WARNING:tensorflow:Callbacks method `on_train_batch_end` is slow compared to the batch time (batch time: 0.0275s vs `on_train_batch_end` time: 0.3915s). Check your callbacks.\n",
      "56/56 [==============================] - 3s 49ms/step - loss: 0.6800 - binary_accuracy: 0.6607 - auc: 0.6722 - val_loss: 0.6500 - val_binary_accuracy: 0.6607 - val_auc: 0.8493\n",
      "Epoch 2/100\n",
      "56/56 [==============================] - 2s 43ms/step - loss: 0.6154 - binary_accuracy: 0.6966 - auc: 0.7732 - val_loss: 0.5237 - val_binary_accuracy: 0.7589 - val_auc: 0.8638\n",
      "Epoch 3/100\n",
      "56/56 [==============================] - 2s 44ms/step - loss: 0.5093 - binary_accuracy: 0.7483 - auc: 0.8436 - val_loss: 0.4437 - val_binary_accuracy: 0.8214 - val_auc: 0.8809\n",
      "Epoch 4/100\n",
      "56/56 [==============================] - 2s 36ms/step - loss: 0.4632 - binary_accuracy: 0.7820 - auc: 0.8574 - val_loss: 0.4077 - val_binary_accuracy: 0.8304 - val_auc: 0.8908\n",
      "Epoch 5/100\n",
      "56/56 [==============================] - 2s 37ms/step - loss: 0.4408 - binary_accuracy: 0.7865 - auc: 0.8710 - val_loss: 0.3805 - val_binary_accuracy: 0.8304 - val_auc: 0.9011\n",
      "Epoch 6/100\n",
      "56/56 [==============================] - 3s 46ms/step - loss: 0.4312 - binary_accuracy: 0.7955 - auc: 0.8752 - val_loss: 0.3677 - val_binary_accuracy: 0.8214 - val_auc: 0.9119\n",
      "Epoch 7/100\n",
      "56/56 [==============================] - 3s 49ms/step - loss: 0.4175 - binary_accuracy: 0.8022 - auc: 0.8831 - val_loss: 0.3666 - val_binary_accuracy: 0.8482 - val_auc: 0.9124\n",
      "Epoch 8/100\n",
      "56/56 [==============================] - 2s 44ms/step - loss: 0.4105 - binary_accuracy: 0.7955 - auc: 0.8861 - val_loss: 0.3417 - val_binary_accuracy: 0.8304 - val_auc: 0.9250\n",
      "Epoch 9/100\n",
      "56/56 [==============================] - 3s 51ms/step - loss: 0.3882 - binary_accuracy: 0.8202 - auc: 0.9010 - val_loss: 0.3517 - val_binary_accuracy: 0.8661 - val_auc: 0.9248\n",
      "Epoch 10/100\n",
      "56/56 [==============================] - 3s 46ms/step - loss: 0.3964 - binary_accuracy: 0.8180 - auc: 0.8958 - val_loss: 0.3261 - val_binary_accuracy: 0.8393 - val_auc: 0.9282\n",
      "Epoch 11/100\n",
      "56/56 [==============================] - 3s 48ms/step - loss: 0.3573 - binary_accuracy: 0.8360 - auc: 0.9157 - val_loss: 0.3099 - val_binary_accuracy: 0.8661 - val_auc: 0.9348\n",
      "Epoch 12/100\n",
      "56/56 [==============================] - 3s 55ms/step - loss: 0.3421 - binary_accuracy: 0.8427 - auc: 0.9249 - val_loss: 0.3050 - val_binary_accuracy: 0.8750 - val_auc: 0.9336\n",
      "Epoch 13/100\n",
      "56/56 [==============================] - 3s 50ms/step - loss: 0.3509 - binary_accuracy: 0.8315 - auc: 0.9183 - val_loss: 0.2973 - val_binary_accuracy: 0.8661 - val_auc: 0.9400\n",
      "Epoch 14/100\n",
      "56/56 [==============================] - 3s 54ms/step - loss: 0.3272 - binary_accuracy: 0.8404 - auc: 0.9317 - val_loss: 0.2955 - val_binary_accuracy: 0.8750 - val_auc: 0.9414\n",
      "Epoch 15/100\n",
      "56/56 [==============================] - 2s 38ms/step - loss: 0.3220 - binary_accuracy: 0.8607 - auc: 0.9341 - val_loss: 0.2861 - val_binary_accuracy: 0.8839 - val_auc: 0.9457\n",
      "Epoch 16/100\n",
      "56/56 [==============================] - 2s 39ms/step - loss: 0.3139 - binary_accuracy: 0.8607 - auc: 0.9384 - val_loss: 0.3058 - val_binary_accuracy: 0.8929 - val_auc: 0.9452\n",
      "Epoch 17/100\n",
      "56/56 [==============================] - 3s 56ms/step - loss: 0.3028 - binary_accuracy: 0.8629 - auc: 0.9417 - val_loss: 0.2776 - val_binary_accuracy: 0.8750 - val_auc: 0.9471\n",
      "Epoch 18/100\n",
      "56/56 [==============================] - 3s 49ms/step - loss: 0.2861 - binary_accuracy: 0.8719 - auc: 0.9500 - val_loss: 0.2762 - val_binary_accuracy: 0.8661 - val_auc: 0.9473\n",
      "Epoch 19/100\n",
      "56/56 [==============================] - 3s 51ms/step - loss: 0.2784 - binary_accuracy: 0.8854 - auc: 0.9515 - val_loss: 0.2645 - val_binary_accuracy: 0.9018 - val_auc: 0.9511\n",
      "Epoch 20/100\n",
      "56/56 [==============================] - 3s 48ms/step - loss: 0.2739 - binary_accuracy: 0.8764 - auc: 0.9532 - val_loss: 0.2763 - val_binary_accuracy: 0.8482 - val_auc: 0.9493\n",
      "Epoch 21/100\n",
      "56/56 [==============================] - 3s 50ms/step - loss: 0.2430 - binary_accuracy: 0.9079 - auc: 0.9648 - val_loss: 0.2648 - val_binary_accuracy: 0.8929 - val_auc: 0.9532\n",
      "Epoch 22/100\n",
      "56/56 [==============================] - 3s 53ms/step - loss: 0.2588 - binary_accuracy: 0.8764 - auc: 0.9586 - val_loss: 0.2800 - val_binary_accuracy: 0.8482 - val_auc: 0.9528\n"
     ]
    }
   ],
   "source": [
    "X = X.reshape((N,n_features,1))\n",
    "my_callbacks = [\n",
    "    tf.keras.callbacks.EarlyStopping(patience=3),\n",
    "    tf.keras.callbacks.ModelCheckpoint(filepath='models/model.{epoch:02d}-{val_loss:.2f}.h5'),\n",
    "    tf.keras.callbacks.TensorBoard(log_dir='./logs')\n",
    "]\n",
    "tf.config.run_functions_eagerly(True)\n",
    "history = model.fit(\n",
    "    X,\n",
    "    Y,\n",
    "    batch_size=BATCH_SIZE,\n",
    "    validation_split=0.2,\n",
    "    epochs=EPOCHS,\n",
    "    callbacks=my_callbacks\n",
    ")\n"
   ]
  },
  {
   "cell_type": "code",
   "execution_count": 6,
   "id": "physical-capitol",
   "metadata": {},
   "outputs": [],
   "source": [
    "model.save_weights(\"model/model\")"
   ]
  },
  {
   "cell_type": "code",
   "execution_count": 7,
   "id": "hungry-treasury",
   "metadata": {},
   "outputs": [
    {
     "name": "stdout",
     "output_type": "stream",
     "text": [
      "dict_keys(['loss', 'binary_accuracy', 'auc', 'val_loss', 'val_binary_accuracy', 'val_auc'])\n"
     ]
    },
    {
     "data": {
      "image/png": "[encoded data removed]",
      "text/plain": [
       "<Figure size 432x288 with 1 Axes>"
      ]
     },
     "metadata": {
      "needs_background": "light"
     },
     "output_type": "display_data"
    },
    {
     "data": {
      "image/png": "[encoded data removed]",
      "text/plain": [
       "<Figure size 432x288 with 1 Axes>"
      ]
     },
     "metadata": {
      "needs_background": "light"
     },
     "output_type": "display_data"
    },
    {
     "data": {
      "image/png": "[encoded data removed]",
      "text/plain": [
       "<Figure size 432x288 with 1 Axes>"
      ]
     },
     "metadata": {
      "needs_background": "light"
     },
     "output_type": "display_data"
    }
   ],
   "source": [
    "import matplotlib.pyplot as plt\n",
    "# list all data in history\n",
    "print(history.history.keys())\n",
    "# summarize history for auc\n",
    "plt.plot(history.history['auc'])\n",
    "plt.plot(history.history['val_auc'])\n",
    "plt.title('model auc')\n",
    "plt.ylabel('auc')\n",
    "plt.xlabel('epoch')\n",
    "plt.legend(['train', 'test'], loc='upper left')\n",
    "plt.show()\n",
    "# # summarize history for accuracy\n",
    "plt.plot(history.history['binary_accuracy'])\n",
    "plt.plot(history.history['val_binary_accuracy'])\n",
    "plt.title('model binary_accuracy')\n",
    "plt.ylabel('binary_accuracy')\n",
    "plt.xlabel('epoch')\n",
    "plt.legend(['train', 'test'], loc='upper left')\n",
    "plt.show()\n",
    "# summarize history for loss\n",
    "plt.plot(history.history['loss'])\n",
    "plt.plot(history.history['val_loss'])\n",
    "plt.title('model loss')\n",
    "plt.ylabel('loss')\n",
    "plt.xlabel('epoch')\n",
    "plt.legend(['train', 'test'], loc='upper left')\n",
    "plt.show()"
   ]
  },
  {
   "cell_type": "code",
   "execution_count": 8,
   "id": "798202b2",
   "metadata": {},
   "outputs": [],
   "source": [
    "image_list =[]\n",
    "label_list = []\n",
    "for label in ['normal','slicing']:\n",
    "    for PATH in glob.glob(r'mytest\\{}\\*.jpg'.format(label)): \n",
    "        features = get_features(PATH)\n",
    "        \n",
    "        image_list.append(features)\n",
    "        if label == 'normal':\n",
    "            label_list.append(1)\n",
    "        else:\n",
    "            label_list.append(0)\n"
   ]
  },
  {
   "cell_type": "code",
   "execution_count": 9,
   "id": "renewable-mirror",
   "metadata": {},
   "outputs": [
    {
     "name": "stdout",
     "output_type": "stream",
     "text": [
      "(63, 75)\n",
      "(63,)\n"
     ]
    }
   ],
   "source": [
    "            \n",
    "import random\n",
    "temp = list(zip(image_list, label_list))\n",
    "random.shuffle(temp)\n",
    "image_list, label_list = zip(*temp)\n",
    "N = len(label_list)\n",
    "Y = np.asarray(label_list)\n",
    "X = np.zeros((N,75))\n",
    "for i in range(0,N):\n",
    "    X[i] = image_list[i].reshape(75,)\n",
    "print(X.shape)\n",
    "print(Y.shape)"
   ]
  },
  {
   "cell_type": "code",
   "execution_count": 10,
   "id": "3fb1618c",
   "metadata": {},
   "outputs": [
    {
     "name": "stdout",
     "output_type": "stream",
     "text": [
      "AUC =  0.9494736842105264\n"
     ]
    },
    {
     "name": "stderr",
     "output_type": "stream",
     "text": [
      "c:\\users\\admin\\appdata\\local\\programs\\python\\python38\\lib\\site-packages\\tensorflow\\python\\data\\ops\\dataset_ops.py:3349: UserWarning: Even though the tf.config.experimental_run_functions_eagerly option is set, this option does not apply to tf.data functions. tf.data functions are still traced and executed as graphs.\n",
      "  warnings.warn(\n"
     ]
    }
   ],
   "source": [
    "from sklearn.metrics import classification_report, confusion_matrix, accuracy_score\n",
    "from sklearn import metrics\n",
    "n_features = 75\n",
    "model.load_weights(\"model/model\")\n",
    "X = X.reshape((N,n_features,1))\n",
    "y_pred = model.predict(X)\n",
    "fpr, tpr, thresholds = metrics.roc_curve(Y,y_pred)\n",
    "# print('acc = ',metrics.accuracy_score(Y,y_pred))\n",
    "print('AUC = ',metrics.auc(fpr, tpr))"
   ]
  },
  {
   "cell_type": "code",
   "execution_count": null,
   "id": "honest-carolina",
   "metadata": {},
   "outputs": [],
   "source": []
  }
 ],
 "metadata": {
  "kernelspec": {
   "display_name": "Python 3",
   "language": "python",
   "name": "python3"
  },
  "language_info": {
   "codemirror_mode": {
    "name": "ipython",
    "version": 3
   },
   "file_extension": ".py",
   "mimetype": "text/x-python",
   "name": "python",
   "nbconvert_exporter": "python",
   "pygments_lexer": "ipython3",
   "version": "3.8.10"
  }
 },
 "nbformat": 4,
 "nbformat_minor": 5
}
